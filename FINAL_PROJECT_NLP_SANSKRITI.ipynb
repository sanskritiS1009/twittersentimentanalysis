{
  "nbformat": 4,
  "nbformat_minor": 0,
  "metadata": {
    "colab": {
      "name": "FINAL PROJECT NLP SANSKRITI.ipynb",
      "provenance": [],
      "collapsed_sections": []
    },
    "kernelspec": {
      "name": "python3",
      "display_name": "Python 3"
    }
  },
  "cells": [
    {
      "cell_type": "code",
      "metadata": {
        "id": "xikVyY24w0ID",
        "colab_type": "code",
        "colab": {}
      },
      "source": [
        "import pandas as pd\n",
        "import numpy as np\n",
        "import re\n",
        "import string\n",
        "from nltk.corpus import stopwords\n",
        "from nltk.tokenize import word_tokenize\n",
        "from sklearn.feature_extraction.text import TfidfVectorizer\n",
        "from sklearn.model_selection import train_test_split\n",
        "from nltk.stem import PorterStemmer\n",
        "from nltk.stem import WordNetLemmatizer\n",
        "# ML Libraries\n",
        "from sklearn.metrics import accuracy_score\n",
        "from sklearn.naive_bayes import MultinomialNB\n",
        "from sklearn.linear_model import LogisticRegression\n",
        "from sklearn.svm import SVC"
      ],
      "execution_count": null,
      "outputs": []
    },
    {
      "cell_type": "code",
      "metadata": {
        "id": "BFufPOfixO4l",
        "colab_type": "code",
        "colab": {
          "base_uri": "https://localhost:8080/",
          "height": 136
        },
        "outputId": "9102e41c-0134-41aa-a2d3-fa945d9639a7"
      },
      "source": [
        "import nltk\n",
        "nltk.download('punkt')\n",
        "from nltk.tokenize import TweetTokenizer\n",
        "import nltk\n",
        "nltk.download('stopwords')\n",
        "import nltk\n",
        "nltk.download('wordnet')"
      ],
      "execution_count": null,
      "outputs": [
        {
          "output_type": "stream",
          "text": [
            "[nltk_data] Downloading package punkt to /root/nltk_data...\n",
            "[nltk_data]   Unzipping tokenizers/punkt.zip.\n",
            "[nltk_data] Downloading package stopwords to /root/nltk_data...\n",
            "[nltk_data]   Unzipping corpora/stopwords.zip.\n",
            "[nltk_data] Downloading package wordnet to /root/nltk_data...\n",
            "[nltk_data]   Unzipping corpora/wordnet.zip.\n"
          ],
          "name": "stdout"
        },
        {
          "output_type": "execute_result",
          "data": {
            "text/plain": [
              "True"
            ]
          },
          "metadata": {
            "tags": []
          },
          "execution_count": 2
        }
      ]
    },
    {
      "cell_type": "markdown",
      "metadata": {
        "id": "rM9pPHoEyH45",
        "colab_type": "text"
      },
      "source": [
        "## FUNCTION TO LOAD DATASETS"
      ]
    },
    {
      "cell_type": "code",
      "metadata": {
        "id": "ynEgm8R4xSy1",
        "colab_type": "code",
        "colab": {}
      },
      "source": [
        "def load_dataset(filename, cols):\n",
        "    dataset = pd.read_csv(filename, encoding='latin-1')\n",
        "    dataset.columns = cols\n",
        "    return dataset"
      ],
      "execution_count": null,
      "outputs": []
    },
    {
      "cell_type": "code",
      "metadata": {
        "id": "XQB1vvxOxWxc",
        "colab_type": "code",
        "colab": {
          "base_uri": "https://localhost:8080/",
          "height": 204
        },
        "outputId": "1ff5df27-9418-425e-b8ac-8422a07e013c"
      },
      "source": [
        "dataset = load_dataset(\"drive/My Drive/Project/train.txt\", ['tweet_id', 'sentiment', 'tweet_text'])\n",
        "dataset.head()"
      ],
      "execution_count": null,
      "outputs": [
        {
          "output_type": "execute_result",
          "data": {
            "text/html": [
              "<div>\n",
              "<style scoped>\n",
              "    .dataframe tbody tr th:only-of-type {\n",
              "        vertical-align: middle;\n",
              "    }\n",
              "\n",
              "    .dataframe tbody tr th {\n",
              "        vertical-align: top;\n",
              "    }\n",
              "\n",
              "    .dataframe thead th {\n",
              "        text-align: right;\n",
              "    }\n",
              "</style>\n",
              "<table border=\"1\" class=\"dataframe\">\n",
              "  <thead>\n",
              "    <tr style=\"text-align: right;\">\n",
              "      <th></th>\n",
              "      <th>tweet_id</th>\n",
              "      <th>sentiment</th>\n",
              "      <th>tweet_text</th>\n",
              "    </tr>\n",
              "  </thead>\n",
              "  <tbody>\n",
              "    <tr>\n",
              "      <th>0</th>\n",
              "      <td>264183816548130816</td>\n",
              "      <td>positive</td>\n",
              "      <td>Gas by my house hit $3.39!!!! I\\u2019m going t...</td>\n",
              "    </tr>\n",
              "    <tr>\n",
              "      <th>1</th>\n",
              "      <td>263405084770172928</td>\n",
              "      <td>negative</td>\n",
              "      <td>Theo Walcott is still shit\\u002c watch Rafa an...</td>\n",
              "    </tr>\n",
              "    <tr>\n",
              "      <th>2</th>\n",
              "      <td>262163168678248449</td>\n",
              "      <td>negative</td>\n",
              "      <td>its not that I\\u2019m a GSP fan\\u002c i just h...</td>\n",
              "    </tr>\n",
              "    <tr>\n",
              "      <th>3</th>\n",
              "      <td>264249301910310912</td>\n",
              "      <td>negative</td>\n",
              "      <td>Iranian general says Israel\\u2019s Iron Dome c...</td>\n",
              "    </tr>\n",
              "    <tr>\n",
              "      <th>4</th>\n",
              "      <td>262682041215234048</td>\n",
              "      <td>neutral</td>\n",
              "      <td>Tehran\\u002c Mon Amour: Obama Tried to Establi...</td>\n",
              "    </tr>\n",
              "  </tbody>\n",
              "</table>\n",
              "</div>"
            ],
            "text/plain": [
              "             tweet_id  ...                                         tweet_text\n",
              "0  264183816548130816  ...  Gas by my house hit $3.39!!!! I\\u2019m going t...\n",
              "1  263405084770172928  ...  Theo Walcott is still shit\\u002c watch Rafa an...\n",
              "2  262163168678248449  ...  its not that I\\u2019m a GSP fan\\u002c i just h...\n",
              "3  264249301910310912  ...  Iranian general says Israel\\u2019s Iron Dome c...\n",
              "4  262682041215234048  ...  Tehran\\u002c Mon Amour: Obama Tried to Establi...\n",
              "\n",
              "[5 rows x 3 columns]"
            ]
          },
          "metadata": {
            "tags": []
          },
          "execution_count": 4
        }
      ]
    },
    {
      "cell_type": "code",
      "metadata": {
        "id": "lO3BkzvDxpWd",
        "colab_type": "code",
        "colab": {
          "base_uri": "https://localhost:8080/",
          "height": 204
        },
        "outputId": "3835a76a-b959-4e48-9872-d4e3eadae219"
      },
      "source": [
        "test_ds = load_dataset(\"drive/My Drive/Project/test.txt\", [\"tweet_id\",\"tweet_text\"])\n",
        "test_ds.head()"
      ],
      "execution_count": null,
      "outputs": [
        {
          "output_type": "execute_result",
          "data": {
            "text/html": [
              "<div>\n",
              "<style scoped>\n",
              "    .dataframe tbody tr th:only-of-type {\n",
              "        vertical-align: middle;\n",
              "    }\n",
              "\n",
              "    .dataframe tbody tr th {\n",
              "        vertical-align: top;\n",
              "    }\n",
              "\n",
              "    .dataframe thead th {\n",
              "        text-align: right;\n",
              "    }\n",
              "</style>\n",
              "<table border=\"1\" class=\"dataframe\">\n",
              "  <thead>\n",
              "    <tr style=\"text-align: right;\">\n",
              "      <th></th>\n",
              "      <th>tweet_id</th>\n",
              "      <th>tweet_text</th>\n",
              "    </tr>\n",
              "  </thead>\n",
              "  <tbody>\n",
              "    <tr>\n",
              "      <th>0</th>\n",
              "      <td>264238274963451904</td>\n",
              "      <td>@jjuueellzz down in the Atlantic city, ventnor...</td>\n",
              "    </tr>\n",
              "    <tr>\n",
              "      <th>1</th>\n",
              "      <td>218775148495515649</td>\n",
              "      <td>Musical awareness: Great Big Beautiful Tomorro...</td>\n",
              "    </tr>\n",
              "    <tr>\n",
              "      <th>2</th>\n",
              "      <td>258965201766998017</td>\n",
              "      <td>On Radio786 100.4fm 7:10 Fri Oct 19 Labour ana...</td>\n",
              "    </tr>\n",
              "    <tr>\n",
              "      <th>3</th>\n",
              "      <td>262926411352903682</td>\n",
              "      <td>Kapan sih lo ngebuktiin,jan ngomong doang Susa...</td>\n",
              "    </tr>\n",
              "    <tr>\n",
              "      <th>4</th>\n",
              "      <td>171874368908050432</td>\n",
              "      <td>Excuse the connectivity of this live stream, f...</td>\n",
              "    </tr>\n",
              "  </tbody>\n",
              "</table>\n",
              "</div>"
            ],
            "text/plain": [
              "             tweet_id                                         tweet_text\n",
              "0  264238274963451904  @jjuueellzz down in the Atlantic city, ventnor...\n",
              "1  218775148495515649  Musical awareness: Great Big Beautiful Tomorro...\n",
              "2  258965201766998017  On Radio786 100.4fm 7:10 Fri Oct 19 Labour ana...\n",
              "3  262926411352903682  Kapan sih lo ngebuktiin,jan ngomong doang Susa...\n",
              "4  171874368908050432  Excuse the connectivity of this live stream, f..."
            ]
          },
          "metadata": {
            "tags": []
          },
          "execution_count": 6
        }
      ]
    },
    {
      "cell_type": "code",
      "metadata": {
        "id": "gvF-F5MRx1iC",
        "colab_type": "code",
        "colab": {}
      },
      "source": [
        "def remove_unwanted_cols(dataset, cols):\n",
        "    for col in cols:\n",
        "        del dataset[col]\n",
        "    return dataset"
      ],
      "execution_count": null,
      "outputs": []
    },
    {
      "cell_type": "markdown",
      "metadata": {
        "id": "C8O7q-iryBrd",
        "colab_type": "text"
      },
      "source": [
        "## TEXT CLEANING FUNCTION"
      ]
    },
    {
      "cell_type": "markdown",
      "metadata": {
        "id": "V5ogcOcmyBlN",
        "colab_type": "text"
      },
      "source": [
        ""
      ]
    },
    {
      "cell_type": "code",
      "metadata": {
        "id": "HfymhF91x9aD",
        "colab_type": "code",
        "colab": {}
      },
      "source": [
        "import re\n",
        "from nltk.corpus import stopwords\n",
        "\n",
        "\n",
        "def cleanTweet(tweet):\n",
        "    \n",
        "    \n",
        "    tweet = re.sub(r'@[A-Za-z0-9_]+','',tweet)\n",
        "\n",
        "    # Remove any word that start with http (links)\n",
        "    tweet = re.sub('https?://[A-Za-z0-9./]+','',tweet)\n",
        "    \n",
        "    # Remove symbols\n",
        "    tweet =  ''.join(ch for ch in tweet if ch.isalnum() or ch == ' ' or ch == '#')\n",
        "    \n",
        "    # Convert tweet into lowercase\n",
        "    tweet = tweet.lower()\n",
        "    \n",
        "    return tweet"
      ],
      "execution_count": null,
      "outputs": []
    },
    {
      "cell_type": "markdown",
      "metadata": {
        "id": "gy5qaDZtyXAy",
        "colab_type": "text"
      },
      "source": [
        "## APPLYING THE TEXT CLEAN FUNCTION TO TRAINING DATA"
      ]
    },
    {
      "cell_type": "code",
      "metadata": {
        "id": "z21xK1_6yAX0",
        "colab_type": "code",
        "colab": {
          "base_uri": "https://localhost:8080/",
          "height": 204
        },
        "outputId": "87f0fdc0-c582-4b9e-d200-31b69662f2e1"
      },
      "source": [
        "for index, row in dataset.iterrows():\n",
        "    dataset.loc[index,'CleanText'] = cleanTweet(dataset.loc[index,'tweet_text'])\n",
        "\n",
        "dataset.head()"
      ],
      "execution_count": null,
      "outputs": [
        {
          "output_type": "execute_result",
          "data": {
            "text/html": [
              "<div>\n",
              "<style scoped>\n",
              "    .dataframe tbody tr th:only-of-type {\n",
              "        vertical-align: middle;\n",
              "    }\n",
              "\n",
              "    .dataframe tbody tr th {\n",
              "        vertical-align: top;\n",
              "    }\n",
              "\n",
              "    .dataframe thead th {\n",
              "        text-align: right;\n",
              "    }\n",
              "</style>\n",
              "<table border=\"1\" class=\"dataframe\">\n",
              "  <thead>\n",
              "    <tr style=\"text-align: right;\">\n",
              "      <th></th>\n",
              "      <th>tweet_id</th>\n",
              "      <th>sentiment</th>\n",
              "      <th>tweet_text</th>\n",
              "      <th>CleanText</th>\n",
              "    </tr>\n",
              "  </thead>\n",
              "  <tbody>\n",
              "    <tr>\n",
              "      <th>0</th>\n",
              "      <td>264183816548130816</td>\n",
              "      <td>positive</td>\n",
              "      <td>Gas by my house hit $3.39!!!! I\\u2019m going t...</td>\n",
              "      <td>gas by my house hit 339 iu2019m going to chape...</td>\n",
              "    </tr>\n",
              "    <tr>\n",
              "      <th>1</th>\n",
              "      <td>263405084770172928</td>\n",
              "      <td>negative</td>\n",
              "      <td>Theo Walcott is still shit\\u002c watch Rafa an...</td>\n",
              "      <td>theo walcott is still shitu002c watch rafa and...</td>\n",
              "    </tr>\n",
              "    <tr>\n",
              "      <th>2</th>\n",
              "      <td>262163168678248449</td>\n",
              "      <td>negative</td>\n",
              "      <td>its not that I\\u2019m a GSP fan\\u002c i just h...</td>\n",
              "      <td>its not that iu2019m a gsp fanu002c i just hat...</td>\n",
              "    </tr>\n",
              "    <tr>\n",
              "      <th>3</th>\n",
              "      <td>264249301910310912</td>\n",
              "      <td>negative</td>\n",
              "      <td>Iranian general says Israel\\u2019s Iron Dome c...</td>\n",
              "      <td>iranian general says israelu2019s iron dome ca...</td>\n",
              "    </tr>\n",
              "    <tr>\n",
              "      <th>4</th>\n",
              "      <td>262682041215234048</td>\n",
              "      <td>neutral</td>\n",
              "      <td>Tehran\\u002c Mon Amour: Obama Tried to Establi...</td>\n",
              "      <td>tehranu002c mon amour obama tried to establish...</td>\n",
              "    </tr>\n",
              "  </tbody>\n",
              "</table>\n",
              "</div>"
            ],
            "text/plain": [
              "             tweet_id  ...                                          CleanText\n",
              "0  264183816548130816  ...  gas by my house hit 339 iu2019m going to chape...\n",
              "1  263405084770172928  ...  theo walcott is still shitu002c watch rafa and...\n",
              "2  262163168678248449  ...  its not that iu2019m a gsp fanu002c i just hat...\n",
              "3  264249301910310912  ...  iranian general says israelu2019s iron dome ca...\n",
              "4  262682041215234048  ...  tehranu002c mon amour obama tried to establish...\n",
              "\n",
              "[5 rows x 4 columns]"
            ]
          },
          "metadata": {
            "tags": []
          },
          "execution_count": 10
        }
      ]
    },
    {
      "cell_type": "markdown",
      "metadata": {
        "id": "rO1M_LVDymDs",
        "colab_type": "text"
      },
      "source": [
        "# TOKENIZATION\n",
        "\n",
        "> Indented block\n",
        "\n",
        "> Indented block\n",
        "\n",
        "\n",
        "\n"
      ]
    },
    {
      "cell_type": "code",
      "metadata": {
        "id": "ebI5qfU1yQaY",
        "colab_type": "code",
        "colab": {
          "base_uri": "https://localhost:8080/",
          "height": 238
        },
        "outputId": "eef76db9-1cf3-42cf-ecfd-65ca20120d0f"
      },
      "source": [
        "from nltk.tokenize import TweetTokenizer\n",
        "\n",
        "tknzr = TweetTokenizer()\n",
        "\n",
        "# List that contains a list of the tokens of each tweet\n",
        "tokens = list()\n",
        "for index, row in dataset.iterrows():\n",
        "    tweetTokens = tknzr.tokenize(dataset.loc[index,'CleanText'])\n",
        "    \n",
        "    # Remove stopwords\n",
        "    tweetTokens = [w for w in tweetTokens if not w in stopwords.words('english')] \n",
        "    \n",
        "    tokens.append(tweetTokens)\n",
        "    \n",
        "\n",
        "# Add tokens as a new column to the dataframe    \n",
        "dataset['Tokens'] = pd.Series(tokens,index=dataset.index)\n",
        "\n",
        "dataset.head()"
      ],
      "execution_count": null,
      "outputs": [
        {
          "output_type": "execute_result",
          "data": {
            "text/html": [
              "<div>\n",
              "<style scoped>\n",
              "    .dataframe tbody tr th:only-of-type {\n",
              "        vertical-align: middle;\n",
              "    }\n",
              "\n",
              "    .dataframe tbody tr th {\n",
              "        vertical-align: top;\n",
              "    }\n",
              "\n",
              "    .dataframe thead th {\n",
              "        text-align: right;\n",
              "    }\n",
              "</style>\n",
              "<table border=\"1\" class=\"dataframe\">\n",
              "  <thead>\n",
              "    <tr style=\"text-align: right;\">\n",
              "      <th></th>\n",
              "      <th>tweet_id</th>\n",
              "      <th>sentiment</th>\n",
              "      <th>tweet_text</th>\n",
              "      <th>CleanText</th>\n",
              "      <th>Tokens</th>\n",
              "    </tr>\n",
              "  </thead>\n",
              "  <tbody>\n",
              "    <tr>\n",
              "      <th>0</th>\n",
              "      <td>264183816548130816</td>\n",
              "      <td>positive</td>\n",
              "      <td>Gas by my house hit $3.39!!!! I\\u2019m going t...</td>\n",
              "      <td>gas by my house hit 339 iu2019m going to chape...</td>\n",
              "      <td>[gas, house, hit, 339, iu2019m, going, chapel,...</td>\n",
              "    </tr>\n",
              "    <tr>\n",
              "      <th>1</th>\n",
              "      <td>263405084770172928</td>\n",
              "      <td>negative</td>\n",
              "      <td>Theo Walcott is still shit\\u002c watch Rafa an...</td>\n",
              "      <td>theo walcott is still shitu002c watch rafa and...</td>\n",
              "      <td>[theo, walcott, still, shitu, 002c, watch, raf...</td>\n",
              "    </tr>\n",
              "    <tr>\n",
              "      <th>2</th>\n",
              "      <td>262163168678248449</td>\n",
              "      <td>negative</td>\n",
              "      <td>its not that I\\u2019m a GSP fan\\u002c i just h...</td>\n",
              "      <td>its not that iu2019m a gsp fanu002c i just hat...</td>\n",
              "      <td>[iu2019m, gsp, fanu, 002c, hate, nick, diaz, c...</td>\n",
              "    </tr>\n",
              "    <tr>\n",
              "      <th>3</th>\n",
              "      <td>264249301910310912</td>\n",
              "      <td>negative</td>\n",
              "      <td>Iranian general says Israel\\u2019s Iron Dome c...</td>\n",
              "      <td>iranian general says israelu2019s iron dome ca...</td>\n",
              "      <td>[iranian, general, says, israelu, 2019s, iron,...</td>\n",
              "    </tr>\n",
              "    <tr>\n",
              "      <th>4</th>\n",
              "      <td>262682041215234048</td>\n",
              "      <td>neutral</td>\n",
              "      <td>Tehran\\u002c Mon Amour: Obama Tried to Establi...</td>\n",
              "      <td>tehranu002c mon amour obama tried to establish...</td>\n",
              "      <td>[tehranu, 002c, mon, amour, obama, tried, esta...</td>\n",
              "    </tr>\n",
              "  </tbody>\n",
              "</table>\n",
              "</div>"
            ],
            "text/plain": [
              "             tweet_id  ...                                             Tokens\n",
              "0  264183816548130816  ...  [gas, house, hit, 339, iu2019m, going, chapel,...\n",
              "1  263405084770172928  ...  [theo, walcott, still, shitu, 002c, watch, raf...\n",
              "2  262163168678248449  ...  [iu2019m, gsp, fanu, 002c, hate, nick, diaz, c...\n",
              "3  264249301910310912  ...  [iranian, general, says, israelu, 2019s, iron,...\n",
              "4  262682041215234048  ...  [tehranu, 002c, mon, amour, obama, tried, esta...\n",
              "\n",
              "[5 rows x 5 columns]"
            ]
          },
          "metadata": {
            "tags": []
          },
          "execution_count": 11
        }
      ]
    },
    {
      "cell_type": "markdown",
      "metadata": {
        "id": "WICvM-jEywIt",
        "colab_type": "text"
      },
      "source": [
        "## LEMMATIZATION"
      ]
    },
    {
      "cell_type": "code",
      "metadata": {
        "id": "HsCjAZLkyrZR",
        "colab_type": "code",
        "colab": {
          "base_uri": "https://localhost:8080/",
          "height": 272
        },
        "outputId": "a45ed5f7-8f79-40bc-ebd5-bab44dd01b7d"
      },
      "source": [
        "nltk.download('wordnet')\n",
        "from nltk.stem import WordNetLemmatizer\n",
        "lemmatizer = WordNetLemmatizer()\n",
        "\n",
        "# List that contains a list of the lemmas of the tokens of each tweet\n",
        "lemmasColumn = list()\n",
        "for index, row in dataset.iterrows():\n",
        "    lemmas = list()\n",
        "    for token in dataset.loc[index,'Tokens']:\n",
        "        lemmas.append(lemmatizer.lemmatize(token))\n",
        "    lemmasColumn.append(lemmas)\n",
        "\n",
        "# Replace Tokens column with thier lemmas\n",
        "dataset.drop(['Tokens'],1,inplace=True)\n",
        "dataset['Tokens'] = pd.Series(lemmasColumn,index=dataset.index)\n",
        "\n",
        "dataset.head()"
      ],
      "execution_count": null,
      "outputs": [
        {
          "output_type": "stream",
          "text": [
            "[nltk_data] Downloading package wordnet to /root/nltk_data...\n",
            "[nltk_data]   Package wordnet is already up-to-date!\n"
          ],
          "name": "stdout"
        },
        {
          "output_type": "execute_result",
          "data": {
            "text/html": [
              "<div>\n",
              "<style scoped>\n",
              "    .dataframe tbody tr th:only-of-type {\n",
              "        vertical-align: middle;\n",
              "    }\n",
              "\n",
              "    .dataframe tbody tr th {\n",
              "        vertical-align: top;\n",
              "    }\n",
              "\n",
              "    .dataframe thead th {\n",
              "        text-align: right;\n",
              "    }\n",
              "</style>\n",
              "<table border=\"1\" class=\"dataframe\">\n",
              "  <thead>\n",
              "    <tr style=\"text-align: right;\">\n",
              "      <th></th>\n",
              "      <th>tweet_id</th>\n",
              "      <th>sentiment</th>\n",
              "      <th>tweet_text</th>\n",
              "      <th>CleanText</th>\n",
              "      <th>Tokens</th>\n",
              "    </tr>\n",
              "  </thead>\n",
              "  <tbody>\n",
              "    <tr>\n",
              "      <th>0</th>\n",
              "      <td>264183816548130816</td>\n",
              "      <td>positive</td>\n",
              "      <td>Gas by my house hit $3.39!!!! I\\u2019m going t...</td>\n",
              "      <td>gas by my house hit 339 iu2019m going to chape...</td>\n",
              "      <td>[gas, house, hit, 339, iu2019m, going, chapel,...</td>\n",
              "    </tr>\n",
              "    <tr>\n",
              "      <th>1</th>\n",
              "      <td>263405084770172928</td>\n",
              "      <td>negative</td>\n",
              "      <td>Theo Walcott is still shit\\u002c watch Rafa an...</td>\n",
              "      <td>theo walcott is still shitu002c watch rafa and...</td>\n",
              "      <td>[theo, walcott, still, shitu, 002c, watch, raf...</td>\n",
              "    </tr>\n",
              "    <tr>\n",
              "      <th>2</th>\n",
              "      <td>262163168678248449</td>\n",
              "      <td>negative</td>\n",
              "      <td>its not that I\\u2019m a GSP fan\\u002c i just h...</td>\n",
              "      <td>its not that iu2019m a gsp fanu002c i just hat...</td>\n",
              "      <td>[iu2019m, gsp, fanu, 002c, hate, nick, diaz, c...</td>\n",
              "    </tr>\n",
              "    <tr>\n",
              "      <th>3</th>\n",
              "      <td>264249301910310912</td>\n",
              "      <td>negative</td>\n",
              "      <td>Iranian general says Israel\\u2019s Iron Dome c...</td>\n",
              "      <td>iranian general says israelu2019s iron dome ca...</td>\n",
              "      <td>[iranian, general, say, israelu, 2019s, iron, ...</td>\n",
              "    </tr>\n",
              "    <tr>\n",
              "      <th>4</th>\n",
              "      <td>262682041215234048</td>\n",
              "      <td>neutral</td>\n",
              "      <td>Tehran\\u002c Mon Amour: Obama Tried to Establi...</td>\n",
              "      <td>tehranu002c mon amour obama tried to establish...</td>\n",
              "      <td>[tehranu, 002c, mon, amour, obama, tried, esta...</td>\n",
              "    </tr>\n",
              "  </tbody>\n",
              "</table>\n",
              "</div>"
            ],
            "text/plain": [
              "             tweet_id  ...                                             Tokens\n",
              "0  264183816548130816  ...  [gas, house, hit, 339, iu2019m, going, chapel,...\n",
              "1  263405084770172928  ...  [theo, walcott, still, shitu, 002c, watch, raf...\n",
              "2  262163168678248449  ...  [iu2019m, gsp, fanu, 002c, hate, nick, diaz, c...\n",
              "3  264249301910310912  ...  [iranian, general, say, israelu, 2019s, iron, ...\n",
              "4  262682041215234048  ...  [tehranu, 002c, mon, amour, obama, tried, esta...\n",
              "\n",
              "[5 rows x 5 columns]"
            ]
          },
          "metadata": {
            "tags": []
          },
          "execution_count": 12
        }
      ]
    },
    {
      "cell_type": "markdown",
      "metadata": {
        "id": "OQAJr0zzy8Cc",
        "colab_type": "text"
      },
      "source": [
        "## VECTORIZING DATA"
      ]
    },
    {
      "cell_type": "code",
      "metadata": {
        "id": "sjOLsmysy5Uc",
        "colab_type": "code",
        "colab": {}
      },
      "source": [
        "def get_feature_vector(train_fit):\n",
        "    vector = TfidfVectorizer(sublinear_tf=True)\n",
        "    vector.fit(train_fit)\n",
        "    return vector"
      ],
      "execution_count": null,
      "outputs": []
    },
    {
      "cell_type": "code",
      "metadata": {
        "id": "p4QK3Rfxy_rG",
        "colab_type": "code",
        "colab": {
          "base_uri": "https://localhost:8080/",
          "height": 204
        },
        "outputId": "2d7dc751-de4e-4f02-a036-555c267719e4"
      },
      "source": [
        "n_dataset = remove_unwanted_cols(dataset, ['tweet_id'])\n",
        "n_dataset.head()"
      ],
      "execution_count": null,
      "outputs": [
        {
          "output_type": "execute_result",
          "data": {
            "text/html": [
              "<div>\n",
              "<style scoped>\n",
              "    .dataframe tbody tr th:only-of-type {\n",
              "        vertical-align: middle;\n",
              "    }\n",
              "\n",
              "    .dataframe tbody tr th {\n",
              "        vertical-align: top;\n",
              "    }\n",
              "\n",
              "    .dataframe thead th {\n",
              "        text-align: right;\n",
              "    }\n",
              "</style>\n",
              "<table border=\"1\" class=\"dataframe\">\n",
              "  <thead>\n",
              "    <tr style=\"text-align: right;\">\n",
              "      <th></th>\n",
              "      <th>sentiment</th>\n",
              "      <th>tweet_text</th>\n",
              "      <th>CleanText</th>\n",
              "      <th>Tokens</th>\n",
              "    </tr>\n",
              "  </thead>\n",
              "  <tbody>\n",
              "    <tr>\n",
              "      <th>0</th>\n",
              "      <td>positive</td>\n",
              "      <td>Gas by my house hit $3.39!!!! I\\u2019m going t...</td>\n",
              "      <td>gas by my house hit 339 iu2019m going to chape...</td>\n",
              "      <td>[gas, house, hit, 339, iu2019m, going, chapel,...</td>\n",
              "    </tr>\n",
              "    <tr>\n",
              "      <th>1</th>\n",
              "      <td>negative</td>\n",
              "      <td>Theo Walcott is still shit\\u002c watch Rafa an...</td>\n",
              "      <td>theo walcott is still shitu002c watch rafa and...</td>\n",
              "      <td>[theo, walcott, still, shitu, 002c, watch, raf...</td>\n",
              "    </tr>\n",
              "    <tr>\n",
              "      <th>2</th>\n",
              "      <td>negative</td>\n",
              "      <td>its not that I\\u2019m a GSP fan\\u002c i just h...</td>\n",
              "      <td>its not that iu2019m a gsp fanu002c i just hat...</td>\n",
              "      <td>[iu2019m, gsp, fanu, 002c, hate, nick, diaz, c...</td>\n",
              "    </tr>\n",
              "    <tr>\n",
              "      <th>3</th>\n",
              "      <td>negative</td>\n",
              "      <td>Iranian general says Israel\\u2019s Iron Dome c...</td>\n",
              "      <td>iranian general says israelu2019s iron dome ca...</td>\n",
              "      <td>[iranian, general, say, israelu, 2019s, iron, ...</td>\n",
              "    </tr>\n",
              "    <tr>\n",
              "      <th>4</th>\n",
              "      <td>neutral</td>\n",
              "      <td>Tehran\\u002c Mon Amour: Obama Tried to Establi...</td>\n",
              "      <td>tehranu002c mon amour obama tried to establish...</td>\n",
              "      <td>[tehranu, 002c, mon, amour, obama, tried, esta...</td>\n",
              "    </tr>\n",
              "  </tbody>\n",
              "</table>\n",
              "</div>"
            ],
            "text/plain": [
              "  sentiment  ...                                             Tokens\n",
              "0  positive  ...  [gas, house, hit, 339, iu2019m, going, chapel,...\n",
              "1  negative  ...  [theo, walcott, still, shitu, 002c, watch, raf...\n",
              "2  negative  ...  [iu2019m, gsp, fanu, 002c, hate, nick, diaz, c...\n",
              "3  negative  ...  [iranian, general, say, israelu, 2019s, iron, ...\n",
              "4   neutral  ...  [tehranu, 002c, mon, amour, obama, tried, esta...\n",
              "\n",
              "[5 rows x 4 columns]"
            ]
          },
          "metadata": {
            "tags": []
          },
          "execution_count": 14
        }
      ]
    },
    {
      "cell_type": "code",
      "metadata": {
        "id": "WBuwxszHzFMK",
        "colab_type": "code",
        "colab": {}
      },
      "source": [
        "tf_vector = get_feature_vector(np.array(dataset.iloc[:, 1]).ravel())\n"
      ],
      "execution_count": null,
      "outputs": []
    },
    {
      "cell_type": "code",
      "metadata": {
        "id": "TS4lfD4DzMZO",
        "colab_type": "code",
        "colab": {}
      },
      "source": [
        "X = tf_vector.transform(np.array(dataset.iloc[:, 1]).ravel())\n",
        "y = np.array(dataset.iloc[:, 0]).ravel()"
      ],
      "execution_count": null,
      "outputs": []
    },
    {
      "cell_type": "code",
      "metadata": {
        "id": "f4ryD50lzOJ2",
        "colab_type": "code",
        "colab": {}
      },
      "source": [
        "X_train, X_test, y_train, y_test = train_test_split(X, y, test_size=0.2, random_state=30)"
      ],
      "execution_count": null,
      "outputs": []
    },
    {
      "cell_type": "markdown",
      "metadata": {
        "id": "PfpihnhGzTqS",
        "colab_type": "text"
      },
      "source": [
        "## NAIVE BAYES MODEL"
      ]
    },
    {
      "cell_type": "code",
      "metadata": {
        "id": "qxl-uePmzPzy",
        "colab_type": "code",
        "colab": {
          "base_uri": "https://localhost:8080/",
          "height": 34
        },
        "outputId": "21696723-3ba1-438f-8181-3524c22c332c"
      },
      "source": [
        "NB_model = MultinomialNB()\n",
        "NB_model.fit(X_train, y_train)\n",
        "y_predict_nb = NB_model.predict(X_test)\n",
        "print(accuracy_score(y_test, y_predict_nb))"
      ],
      "execution_count": null,
      "outputs": [
        {
          "output_type": "stream",
          "text": [
            "0.5918937805730259\n"
          ],
          "name": "stdout"
        }
      ]
    },
    {
      "cell_type": "markdown",
      "metadata": {
        "id": "zqB0tBLmzZFn",
        "colab_type": "text"
      },
      "source": [
        "## LOGISTIC REGRESSION MODEL"
      ]
    },
    {
      "cell_type": "code",
      "metadata": {
        "id": "z8sGij84zWkz",
        "colab_type": "code",
        "colab": {
          "base_uri": "https://localhost:8080/",
          "height": 170
        },
        "outputId": "d64bd2d2-28ba-4ff1-fc63-d3ce9ba714b7"
      },
      "source": [
        "LR_model = LogisticRegression(solver='lbfgs')\n",
        "LR_model.fit(X_train, y_train)\n",
        "y_predict_lr = LR_model.predict(X_test)\n",
        "print(accuracy_score(y_test, y_predict_lr))"
      ],
      "execution_count": null,
      "outputs": [
        {
          "output_type": "stream",
          "text": [
            "0.6457023060796646\n"
          ],
          "name": "stdout"
        },
        {
          "output_type": "stream",
          "text": [
            "/usr/local/lib/python3.6/dist-packages/sklearn/linear_model/_logistic.py:940: ConvergenceWarning: lbfgs failed to converge (status=1):\n",
            "STOP: TOTAL NO. of ITERATIONS REACHED LIMIT.\n",
            "\n",
            "Increase the number of iterations (max_iter) or scale the data as shown in:\n",
            "    https://scikit-learn.org/stable/modules/preprocessing.html\n",
            "Please also refer to the documentation for alternative solver options:\n",
            "    https://scikit-learn.org/stable/modules/linear_model.html#logistic-regression\n",
            "  extra_warning_msg=_LOGISTIC_SOLVER_CONVERGENCE_MSG)\n"
          ],
          "name": "stderr"
        }
      ]
    },
    {
      "cell_type": "markdown",
      "metadata": {
        "id": "4x5UmGNczhVn",
        "colab_type": "text"
      },
      "source": [
        "## CLEANING TEST DATA"
      ]
    },
    {
      "cell_type": "code",
      "metadata": {
        "id": "GE7rYYTZzcIq",
        "colab_type": "code",
        "colab": {
          "base_uri": "https://localhost:8080/",
          "height": 204
        },
        "outputId": "89d0d50a-a5c9-4a0b-baf2-e95b8f39c36b"
      },
      "source": [
        "for index, row in test_ds.iterrows():\n",
        "    test_ds.loc[index,'CleanText'] = cleanTweet(test_ds.loc[index,'tweet_text'])\n",
        "test_ds.head()"
      ],
      "execution_count": null,
      "outputs": [
        {
          "output_type": "execute_result",
          "data": {
            "text/html": [
              "<div>\n",
              "<style scoped>\n",
              "    .dataframe tbody tr th:only-of-type {\n",
              "        vertical-align: middle;\n",
              "    }\n",
              "\n",
              "    .dataframe tbody tr th {\n",
              "        vertical-align: top;\n",
              "    }\n",
              "\n",
              "    .dataframe thead th {\n",
              "        text-align: right;\n",
              "    }\n",
              "</style>\n",
              "<table border=\"1\" class=\"dataframe\">\n",
              "  <thead>\n",
              "    <tr style=\"text-align: right;\">\n",
              "      <th></th>\n",
              "      <th>tweet_id</th>\n",
              "      <th>tweet_text</th>\n",
              "      <th>CleanText</th>\n",
              "    </tr>\n",
              "  </thead>\n",
              "  <tbody>\n",
              "    <tr>\n",
              "      <th>0</th>\n",
              "      <td>264238274963451904</td>\n",
              "      <td>@jjuueellzz down in the Atlantic city, ventnor...</td>\n",
              "      <td>down in the atlantic city ventnor margate oce...</td>\n",
              "    </tr>\n",
              "    <tr>\n",
              "      <th>1</th>\n",
              "      <td>218775148495515649</td>\n",
              "      <td>Musical awareness: Great Big Beautiful Tomorro...</td>\n",
              "      <td>musical awareness great big beautiful tomorrow...</td>\n",
              "    </tr>\n",
              "    <tr>\n",
              "      <th>2</th>\n",
              "      <td>258965201766998017</td>\n",
              "      <td>On Radio786 100.4fm 7:10 Fri Oct 19 Labour ana...</td>\n",
              "      <td>on radio786 1004fm 710 fri oct 19 labour analy...</td>\n",
              "    </tr>\n",
              "    <tr>\n",
              "      <th>3</th>\n",
              "      <td>262926411352903682</td>\n",
              "      <td>Kapan sih lo ngebuktiin,jan ngomong doang Susa...</td>\n",
              "      <td>kapan sih lo ngebuktiinjan ngomong doang susah...</td>\n",
              "    </tr>\n",
              "    <tr>\n",
              "      <th>4</th>\n",
              "      <td>171874368908050432</td>\n",
              "      <td>Excuse the connectivity of this live stream, f...</td>\n",
              "      <td>excuse the connectivity of this live stream fr...</td>\n",
              "    </tr>\n",
              "  </tbody>\n",
              "</table>\n",
              "</div>"
            ],
            "text/plain": [
              "             tweet_id  ...                                          CleanText\n",
              "0  264238274963451904  ...   down in the atlantic city ventnor margate oce...\n",
              "1  218775148495515649  ...  musical awareness great big beautiful tomorrow...\n",
              "2  258965201766998017  ...  on radio786 1004fm 710 fri oct 19 labour analy...\n",
              "3  262926411352903682  ...  kapan sih lo ngebuktiinjan ngomong doang susah...\n",
              "4  171874368908050432  ...  excuse the connectivity of this live stream fr...\n",
              "\n",
              "[5 rows x 3 columns]"
            ]
          },
          "metadata": {
            "tags": []
          },
          "execution_count": 20
        }
      ]
    },
    {
      "cell_type": "markdown",
      "metadata": {
        "id": "dtYtDLZGzrTt",
        "colab_type": "text"
      },
      "source": [
        "## TOKENIZING TEST DATA"
      ]
    },
    {
      "cell_type": "code",
      "metadata": {
        "id": "-KQg6LgkzkCo",
        "colab_type": "code",
        "colab": {
          "base_uri": "https://localhost:8080/",
          "height": 289
        },
        "outputId": "c62ec23b-de67-48de-afe9-1fa91395683f"
      },
      "source": [
        "tknzr = TweetTokenizer()\n",
        "tokens = list()\n",
        "for index, row in test_ds.iterrows():\n",
        "    tweetTokens = tknzr.tokenize(test_ds.loc[index,'CleanText'])\n",
        "    tweetTokens = [w for w in tweetTokens if not w in stopwords.words('english')] \n",
        "    tokens.append(tweetTokens)\n",
        "test_ds['Tokens'] = pd.Series(tokens,index=test_ds.index)\n",
        "\n",
        "test_ds.head()"
      ],
      "execution_count": null,
      "outputs": [
        {
          "output_type": "execute_result",
          "data": {
            "text/html": [
              "<div>\n",
              "<style scoped>\n",
              "    .dataframe tbody tr th:only-of-type {\n",
              "        vertical-align: middle;\n",
              "    }\n",
              "\n",
              "    .dataframe tbody tr th {\n",
              "        vertical-align: top;\n",
              "    }\n",
              "\n",
              "    .dataframe thead th {\n",
              "        text-align: right;\n",
              "    }\n",
              "</style>\n",
              "<table border=\"1\" class=\"dataframe\">\n",
              "  <thead>\n",
              "    <tr style=\"text-align: right;\">\n",
              "      <th></th>\n",
              "      <th>tweet_id</th>\n",
              "      <th>tweet_text</th>\n",
              "      <th>CleanText</th>\n",
              "      <th>Tokens</th>\n",
              "    </tr>\n",
              "  </thead>\n",
              "  <tbody>\n",
              "    <tr>\n",
              "      <th>0</th>\n",
              "      <td>264238274963451904</td>\n",
              "      <td>@jjuueellzz down in the Atlantic city, ventnor...</td>\n",
              "      <td>down in the atlantic city ventnor margate oce...</td>\n",
              "      <td>[atlantic, city, ventnor, margate, ocean, city...</td>\n",
              "    </tr>\n",
              "    <tr>\n",
              "      <th>1</th>\n",
              "      <td>218775148495515649</td>\n",
              "      <td>Musical awareness: Great Big Beautiful Tomorro...</td>\n",
              "      <td>musical awareness great big beautiful tomorrow...</td>\n",
              "      <td>[musical, awareness, great, big, beautiful, to...</td>\n",
              "    </tr>\n",
              "    <tr>\n",
              "      <th>2</th>\n",
              "      <td>258965201766998017</td>\n",
              "      <td>On Radio786 100.4fm 7:10 Fri Oct 19 Labour ana...</td>\n",
              "      <td>on radio786 1004fm 710 fri oct 19 labour analy...</td>\n",
              "      <td>[radio, 786 1004, fm, 710, fri, oct, 19, labou...</td>\n",
              "    </tr>\n",
              "    <tr>\n",
              "      <th>3</th>\n",
              "      <td>262926411352903682</td>\n",
              "      <td>Kapan sih lo ngebuktiin,jan ngomong doang Susa...</td>\n",
              "      <td>kapan sih lo ngebuktiinjan ngomong doang susah...</td>\n",
              "      <td>[kapan, sih, lo, ngebuktiinjan, ngomong, doang...</td>\n",
              "    </tr>\n",
              "    <tr>\n",
              "      <th>4</th>\n",
              "      <td>171874368908050432</td>\n",
              "      <td>Excuse the connectivity of this live stream, f...</td>\n",
              "      <td>excuse the connectivity of this live stream fr...</td>\n",
              "      <td>[excuse, connectivity, live, stream, baba, amr...</td>\n",
              "    </tr>\n",
              "  </tbody>\n",
              "</table>\n",
              "</div>"
            ],
            "text/plain": [
              "             tweet_id  ...                                             Tokens\n",
              "0  264238274963451904  ...  [atlantic, city, ventnor, margate, ocean, city...\n",
              "1  218775148495515649  ...  [musical, awareness, great, big, beautiful, to...\n",
              "2  258965201766998017  ...  [radio, 786 1004, fm, 710, fri, oct, 19, labou...\n",
              "3  262926411352903682  ...  [kapan, sih, lo, ngebuktiinjan, ngomong, doang...\n",
              "4  171874368908050432  ...  [excuse, connectivity, live, stream, baba, amr...\n",
              "\n",
              "[5 rows x 4 columns]"
            ]
          },
          "metadata": {
            "tags": []
          },
          "execution_count": 22
        }
      ]
    },
    {
      "cell_type": "markdown",
      "metadata": {
        "id": "FhxAtSe5z_mW",
        "colab_type": "text"
      },
      "source": [
        "## LEMMATIZATION OF TEST DATA"
      ]
    },
    {
      "cell_type": "code",
      "metadata": {
        "id": "BwlkmQ5Szuu5",
        "colab_type": "code",
        "colab": {
          "base_uri": "https://localhost:8080/",
          "height": 289
        },
        "outputId": "21a3f087-e1e0-4b95-e63b-af53521c70da"
      },
      "source": [
        "lemmatizer = WordNetLemmatizer()\n",
        "lemmasColumn = list()\n",
        "for index, row in test_ds.iterrows():\n",
        "    lemmas = list()\n",
        "    for token in test_ds.loc[index,'Tokens']:\n",
        "        lemmas.append(lemmatizer.lemmatize(token))\n",
        "    lemmasColumn.append(lemmas)\n",
        "test_ds.drop(['Tokens'],1,inplace=True)\n",
        "test_ds['Tokens'] = pd.Series(lemmasColumn,index=test_ds.index)\n",
        "\n",
        "test_ds.head()"
      ],
      "execution_count": null,
      "outputs": [
        {
          "output_type": "execute_result",
          "data": {
            "text/html": [
              "<div>\n",
              "<style scoped>\n",
              "    .dataframe tbody tr th:only-of-type {\n",
              "        vertical-align: middle;\n",
              "    }\n",
              "\n",
              "    .dataframe tbody tr th {\n",
              "        vertical-align: top;\n",
              "    }\n",
              "\n",
              "    .dataframe thead th {\n",
              "        text-align: right;\n",
              "    }\n",
              "</style>\n",
              "<table border=\"1\" class=\"dataframe\">\n",
              "  <thead>\n",
              "    <tr style=\"text-align: right;\">\n",
              "      <th></th>\n",
              "      <th>tweet_id</th>\n",
              "      <th>tweet_text</th>\n",
              "      <th>CleanText</th>\n",
              "      <th>Tokens</th>\n",
              "    </tr>\n",
              "  </thead>\n",
              "  <tbody>\n",
              "    <tr>\n",
              "      <th>0</th>\n",
              "      <td>264238274963451904</td>\n",
              "      <td>@jjuueellzz down in the Atlantic city, ventnor...</td>\n",
              "      <td>down in the atlantic city ventnor margate oce...</td>\n",
              "      <td>[atlantic, city, ventnor, margate, ocean, city...</td>\n",
              "    </tr>\n",
              "    <tr>\n",
              "      <th>1</th>\n",
              "      <td>218775148495515649</td>\n",
              "      <td>Musical awareness: Great Big Beautiful Tomorro...</td>\n",
              "      <td>musical awareness great big beautiful tomorrow...</td>\n",
              "      <td>[musical, awareness, great, big, beautiful, to...</td>\n",
              "    </tr>\n",
              "    <tr>\n",
              "      <th>2</th>\n",
              "      <td>258965201766998017</td>\n",
              "      <td>On Radio786 100.4fm 7:10 Fri Oct 19 Labour ana...</td>\n",
              "      <td>on radio786 1004fm 710 fri oct 19 labour analy...</td>\n",
              "      <td>[radio, 786 1004, fm, 710, fri, oct, 19, labou...</td>\n",
              "    </tr>\n",
              "    <tr>\n",
              "      <th>3</th>\n",
              "      <td>262926411352903682</td>\n",
              "      <td>Kapan sih lo ngebuktiin,jan ngomong doang Susa...</td>\n",
              "      <td>kapan sih lo ngebuktiinjan ngomong doang susah...</td>\n",
              "      <td>[kapan, sih, lo, ngebuktiinjan, ngomong, doang...</td>\n",
              "    </tr>\n",
              "    <tr>\n",
              "      <th>4</th>\n",
              "      <td>171874368908050432</td>\n",
              "      <td>Excuse the connectivity of this live stream, f...</td>\n",
              "      <td>excuse the connectivity of this live stream fr...</td>\n",
              "      <td>[excuse, connectivity, live, stream, baba, amr...</td>\n",
              "    </tr>\n",
              "  </tbody>\n",
              "</table>\n",
              "</div>"
            ],
            "text/plain": [
              "             tweet_id  ...                                             Tokens\n",
              "0  264238274963451904  ...  [atlantic, city, ventnor, margate, ocean, city...\n",
              "1  218775148495515649  ...  [musical, awareness, great, big, beautiful, to...\n",
              "2  258965201766998017  ...  [radio, 786 1004, fm, 710, fri, oct, 19, labou...\n",
              "3  262926411352903682  ...  [kapan, sih, lo, ngebuktiinjan, ngomong, doang...\n",
              "4  171874368908050432  ...  [excuse, connectivity, live, stream, baba, amr...\n",
              "\n",
              "[5 rows x 4 columns]"
            ]
          },
          "metadata": {
            "tags": []
          },
          "execution_count": 23
        }
      ]
    },
    {
      "cell_type": "markdown",
      "metadata": {
        "id": "snuqfEBz0PGs",
        "colab_type": "text"
      },
      "source": [
        "# CREATING A DATAFRAME WITH JUST ID'S"
      ]
    },
    {
      "cell_type": "code",
      "metadata": {
        "id": "m-84KNlg0ILN",
        "colab_type": "code",
        "colab": {
          "base_uri": "https://localhost:8080/",
          "height": 119
        },
        "outputId": "ed7a958e-7074-448c-80f9-33ff34812165"
      },
      "source": [
        "idcolumn=test_ds['tweet_id']\n",
        "idcolumn.head()"
      ],
      "execution_count": null,
      "outputs": [
        {
          "output_type": "execute_result",
          "data": {
            "text/plain": [
              "0    264238274963451904\n",
              "1    218775148495515649\n",
              "2    258965201766998017\n",
              "3    262926411352903682\n",
              "4    171874368908050432\n",
              "Name: tweet_id, dtype: int64"
            ]
          },
          "metadata": {
            "tags": []
          },
          "execution_count": 24
        }
      ]
    },
    {
      "cell_type": "markdown",
      "metadata": {
        "id": "-0p7ZR6d0YRn",
        "colab_type": "text"
      },
      "source": [
        "## USING LOGISITC REGRESSION MODEL FOR FINAL RESULT"
      ]
    },
    {
      "cell_type": "code",
      "metadata": {
        "id": "YzCjcsE70UkX",
        "colab_type": "code",
        "colab": {}
      },
      "source": [
        "test_feature = tf_vector.transform(np.array(test_ds.iloc[:, 1]).ravel())\n",
        "test_prediction_lr = LR_model.predict(test_feature)\n",
        "tp=test_prediction_lr[:,None]\n"
      ],
      "execution_count": null,
      "outputs": []
    },
    {
      "cell_type": "code",
      "metadata": {
        "id": "z1XjoMMv0iS8",
        "colab_type": "code",
        "colab": {}
      },
      "source": [
        "newdf= pd.DataFrame(tp,columns=['sentiment'])\n",
        "newdf['tweet_id']=idcolumn"
      ],
      "execution_count": null,
      "outputs": []
    },
    {
      "cell_type": "code",
      "metadata": {
        "id": "oHB96IJI0p76",
        "colab_type": "code",
        "colab": {}
      },
      "source": [
        "columns_titles = [\"tweet_id\",\"sentiment\"]\n",
        "newdf=newdf.reindex(columns=columns_titles)"
      ],
      "execution_count": null,
      "outputs": []
    },
    {
      "cell_type": "code",
      "metadata": {
        "id": "QUSMF2RD0rv-",
        "colab_type": "code",
        "colab": {
          "base_uri": "https://localhost:8080/",
          "height": 204
        },
        "outputId": "a54a2627-79b1-459c-e60a-d51763d56652"
      },
      "source": [
        "newdf.head()"
      ],
      "execution_count": null,
      "outputs": [
        {
          "output_type": "execute_result",
          "data": {
            "text/html": [
              "<div>\n",
              "<style scoped>\n",
              "    .dataframe tbody tr th:only-of-type {\n",
              "        vertical-align: middle;\n",
              "    }\n",
              "\n",
              "    .dataframe tbody tr th {\n",
              "        vertical-align: top;\n",
              "    }\n",
              "\n",
              "    .dataframe thead th {\n",
              "        text-align: right;\n",
              "    }\n",
              "</style>\n",
              "<table border=\"1\" class=\"dataframe\">\n",
              "  <thead>\n",
              "    <tr style=\"text-align: right;\">\n",
              "      <th></th>\n",
              "      <th>tweet_id</th>\n",
              "      <th>sentiment</th>\n",
              "    </tr>\n",
              "  </thead>\n",
              "  <tbody>\n",
              "    <tr>\n",
              "      <th>0</th>\n",
              "      <td>264238274963451904</td>\n",
              "      <td>neutral</td>\n",
              "    </tr>\n",
              "    <tr>\n",
              "      <th>1</th>\n",
              "      <td>218775148495515649</td>\n",
              "      <td>positive</td>\n",
              "    </tr>\n",
              "    <tr>\n",
              "      <th>2</th>\n",
              "      <td>258965201766998017</td>\n",
              "      <td>neutral</td>\n",
              "    </tr>\n",
              "    <tr>\n",
              "      <th>3</th>\n",
              "      <td>262926411352903682</td>\n",
              "      <td>positive</td>\n",
              "    </tr>\n",
              "    <tr>\n",
              "      <th>4</th>\n",
              "      <td>171874368908050432</td>\n",
              "      <td>neutral</td>\n",
              "    </tr>\n",
              "  </tbody>\n",
              "</table>\n",
              "</div>"
            ],
            "text/plain": [
              "             tweet_id sentiment\n",
              "0  264238274963451904   neutral\n",
              "1  218775148495515649  positive\n",
              "2  258965201766998017   neutral\n",
              "3  262926411352903682  positive\n",
              "4  171874368908050432   neutral"
            ]
          },
          "metadata": {
            "tags": []
          },
          "execution_count": 28
        }
      ]
    },
    {
      "cell_type": "code",
      "metadata": {
        "id": "889gHDSK0tnU",
        "colab_type": "code",
        "colab": {}
      },
      "source": [
        "newdf.to_csv('result1.csv',index=False)"
      ],
      "execution_count": null,
      "outputs": []
    },
    {
      "cell_type": "code",
      "metadata": {
        "id": "s_mdlDkq0wVs",
        "colab_type": "code",
        "colab": {}
      },
      "source": [
        ""
      ],
      "execution_count": null,
      "outputs": []
    }
  ]
}